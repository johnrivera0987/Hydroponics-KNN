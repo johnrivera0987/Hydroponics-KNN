{
 "cells": [
  {
   "cell_type": "markdown",
   "id": "35beaa57",
   "metadata": {},
   "source": [
    "# Hydroponics K-Nearest Neighbor"
   ]
  },
  {
   "cell_type": "markdown",
   "id": "e085867d",
   "metadata": {},
   "source": [
    "### Importing of libraries"
   ]
  },
  {
   "cell_type": "code",
   "execution_count": 1,
   "id": "01244508",
   "metadata": {},
   "outputs": [],
   "source": [
    "import pandas as pd\n",
    "import numpy as np\n",
    "import pickle\n",
    "import time\n",
    "import sklearn\n",
    "from sklearn.neighbors import KNeighborsClassifier\n",
    "from sklearn.preprocessing import StandardScaler\n",
    "from sklearn.metrics import classification_report, plot_confusion_matrix\n",
    "import matplotlib.pyplot as plt"
   ]
  },
  {
   "cell_type": "markdown",
   "id": "ab302e6a",
   "metadata": {},
   "source": [
    "### Loading of CSV Data"
   ]
  },
  {
   "cell_type": "code",
   "execution_count": 2,
   "id": "1538c20f",
   "metadata": {},
   "outputs": [],
   "source": [
    "acc_df = pd.read_csv(\"MOCK_DATA.csv\")\n",
    "acc_df.fillna(0, inplace = True)\n",
    "acc_df['Acceptable'] = True\n",
    "unacc_df = pd.read_csv(\"MOCK_DATA-1.csv\")\n",
    "unacc_df.fillna(0, inplace = True)\n",
    "unacc_df['Acceptable'] = False"
   ]
  },
  {
   "cell_type": "markdown",
   "id": "f26f3ea4",
   "metadata": {},
   "source": [
    "### Acceptable Values DataFrame"
   ]
  },
  {
   "cell_type": "code",
   "execution_count": 3,
   "id": "f5fa9578",
   "metadata": {
    "scrolled": false
   },
   "outputs": [
    {
     "data": {
      "text/html": [
       "<div>\n",
       "<style scoped>\n",
       "    .dataframe tbody tr th:only-of-type {\n",
       "        vertical-align: middle;\n",
       "    }\n",
       "\n",
       "    .dataframe tbody tr th {\n",
       "        vertical-align: top;\n",
       "    }\n",
       "\n",
       "    .dataframe thead th {\n",
       "        text-align: right;\n",
       "    }\n",
       "</style>\n",
       "<table border=\"1\" class=\"dataframe\">\n",
       "  <thead>\n",
       "    <tr style=\"text-align: right;\">\n",
       "      <th></th>\n",
       "      <th>pH_level</th>\n",
       "      <th>ec_level</th>\n",
       "      <th>area_of_lettuce</th>\n",
       "      <th>Acceptable</th>\n",
       "    </tr>\n",
       "  </thead>\n",
       "  <tbody>\n",
       "    <tr>\n",
       "      <th>0</th>\n",
       "      <td>5.8</td>\n",
       "      <td>939.03</td>\n",
       "      <td>39.53</td>\n",
       "      <td>True</td>\n",
       "    </tr>\n",
       "    <tr>\n",
       "      <th>1</th>\n",
       "      <td>6.6</td>\n",
       "      <td>867.49</td>\n",
       "      <td>31.21</td>\n",
       "      <td>True</td>\n",
       "    </tr>\n",
       "    <tr>\n",
       "      <th>2</th>\n",
       "      <td>6.5</td>\n",
       "      <td>843.29</td>\n",
       "      <td>37.90</td>\n",
       "      <td>True</td>\n",
       "    </tr>\n",
       "    <tr>\n",
       "      <th>3</th>\n",
       "      <td>6.5</td>\n",
       "      <td>911.27</td>\n",
       "      <td>45.60</td>\n",
       "      <td>True</td>\n",
       "    </tr>\n",
       "    <tr>\n",
       "      <th>4</th>\n",
       "      <td>6.6</td>\n",
       "      <td>856.50</td>\n",
       "      <td>42.65</td>\n",
       "      <td>True</td>\n",
       "    </tr>\n",
       "    <tr>\n",
       "      <th>...</th>\n",
       "      <td>...</td>\n",
       "      <td>...</td>\n",
       "      <td>...</td>\n",
       "      <td>...</td>\n",
       "    </tr>\n",
       "    <tr>\n",
       "      <th>995</th>\n",
       "      <td>5.3</td>\n",
       "      <td>837.40</td>\n",
       "      <td>40.73</td>\n",
       "      <td>True</td>\n",
       "    </tr>\n",
       "    <tr>\n",
       "      <th>996</th>\n",
       "      <td>6.8</td>\n",
       "      <td>921.81</td>\n",
       "      <td>39.80</td>\n",
       "      <td>True</td>\n",
       "    </tr>\n",
       "    <tr>\n",
       "      <th>997</th>\n",
       "      <td>5.4</td>\n",
       "      <td>945.17</td>\n",
       "      <td>48.98</td>\n",
       "      <td>True</td>\n",
       "    </tr>\n",
       "    <tr>\n",
       "      <th>998</th>\n",
       "      <td>6.1</td>\n",
       "      <td>919.46</td>\n",
       "      <td>34.16</td>\n",
       "      <td>True</td>\n",
       "    </tr>\n",
       "    <tr>\n",
       "      <th>999</th>\n",
       "      <td>6.1</td>\n",
       "      <td>822.25</td>\n",
       "      <td>46.01</td>\n",
       "      <td>True</td>\n",
       "    </tr>\n",
       "  </tbody>\n",
       "</table>\n",
       "<p>1000 rows × 4 columns</p>\n",
       "</div>"
      ],
      "text/plain": [
       "     pH_level  ec_level  area_of_lettuce  Acceptable\n",
       "0         5.8    939.03            39.53        True\n",
       "1         6.6    867.49            31.21        True\n",
       "2         6.5    843.29            37.90        True\n",
       "3         6.5    911.27            45.60        True\n",
       "4         6.6    856.50            42.65        True\n",
       "..        ...       ...              ...         ...\n",
       "995       5.3    837.40            40.73        True\n",
       "996       6.8    921.81            39.80        True\n",
       "997       5.4    945.17            48.98        True\n",
       "998       6.1    919.46            34.16        True\n",
       "999       6.1    822.25            46.01        True\n",
       "\n",
       "[1000 rows x 4 columns]"
      ]
     },
     "execution_count": 3,
     "metadata": {},
     "output_type": "execute_result"
    }
   ],
   "source": [
    "acc_df"
   ]
  },
  {
   "cell_type": "markdown",
   "id": "bec647e0",
   "metadata": {},
   "source": [
    "### Unacceptable Values DataFrame"
   ]
  },
  {
   "cell_type": "code",
   "execution_count": 4,
   "id": "5c5d1510",
   "metadata": {},
   "outputs": [
    {
     "data": {
      "text/html": [
       "<div>\n",
       "<style scoped>\n",
       "    .dataframe tbody tr th:only-of-type {\n",
       "        vertical-align: middle;\n",
       "    }\n",
       "\n",
       "    .dataframe tbody tr th {\n",
       "        vertical-align: top;\n",
       "    }\n",
       "\n",
       "    .dataframe thead th {\n",
       "        text-align: right;\n",
       "    }\n",
       "</style>\n",
       "<table border=\"1\" class=\"dataframe\">\n",
       "  <thead>\n",
       "    <tr style=\"text-align: right;\">\n",
       "      <th></th>\n",
       "      <th>pH_level</th>\n",
       "      <th>ec_level</th>\n",
       "      <th>area_of_lettuce</th>\n",
       "      <th>Acceptable</th>\n",
       "    </tr>\n",
       "  </thead>\n",
       "  <tbody>\n",
       "    <tr>\n",
       "      <th>0</th>\n",
       "      <td>12.07</td>\n",
       "      <td>1058.45</td>\n",
       "      <td>70.71</td>\n",
       "      <td>False</td>\n",
       "    </tr>\n",
       "    <tr>\n",
       "      <th>1</th>\n",
       "      <td>10.92</td>\n",
       "      <td>1063.44</td>\n",
       "      <td>60.03</td>\n",
       "      <td>False</td>\n",
       "    </tr>\n",
       "    <tr>\n",
       "      <th>2</th>\n",
       "      <td>12.44</td>\n",
       "      <td>1107.75</td>\n",
       "      <td>56.60</td>\n",
       "      <td>False</td>\n",
       "    </tr>\n",
       "    <tr>\n",
       "      <th>3</th>\n",
       "      <td>2.72</td>\n",
       "      <td>284.13</td>\n",
       "      <td>23.34</td>\n",
       "      <td>False</td>\n",
       "    </tr>\n",
       "    <tr>\n",
       "      <th>4</th>\n",
       "      <td>3.21</td>\n",
       "      <td>690.35</td>\n",
       "      <td>15.31</td>\n",
       "      <td>False</td>\n",
       "    </tr>\n",
       "    <tr>\n",
       "      <th>...</th>\n",
       "      <td>...</td>\n",
       "      <td>...</td>\n",
       "      <td>...</td>\n",
       "      <td>...</td>\n",
       "    </tr>\n",
       "    <tr>\n",
       "      <th>995</th>\n",
       "      <td>7.08</td>\n",
       "      <td>1030.95</td>\n",
       "      <td>53.12</td>\n",
       "      <td>False</td>\n",
       "    </tr>\n",
       "    <tr>\n",
       "      <th>996</th>\n",
       "      <td>10.74</td>\n",
       "      <td>1006.76</td>\n",
       "      <td>61.23</td>\n",
       "      <td>False</td>\n",
       "    </tr>\n",
       "    <tr>\n",
       "      <th>997</th>\n",
       "      <td>1.99</td>\n",
       "      <td>279.23</td>\n",
       "      <td>13.76</td>\n",
       "      <td>False</td>\n",
       "    </tr>\n",
       "    <tr>\n",
       "      <th>998</th>\n",
       "      <td>7.57</td>\n",
       "      <td>1195.12</td>\n",
       "      <td>72.20</td>\n",
       "      <td>False</td>\n",
       "    </tr>\n",
       "    <tr>\n",
       "      <th>999</th>\n",
       "      <td>10.04</td>\n",
       "      <td>1242.82</td>\n",
       "      <td>63.57</td>\n",
       "      <td>False</td>\n",
       "    </tr>\n",
       "  </tbody>\n",
       "</table>\n",
       "<p>1000 rows × 4 columns</p>\n",
       "</div>"
      ],
      "text/plain": [
       "     pH_level  ec_level  area_of_lettuce  Acceptable\n",
       "0       12.07   1058.45            70.71       False\n",
       "1       10.92   1063.44            60.03       False\n",
       "2       12.44   1107.75            56.60       False\n",
       "3        2.72    284.13            23.34       False\n",
       "4        3.21    690.35            15.31       False\n",
       "..        ...       ...              ...         ...\n",
       "995      7.08   1030.95            53.12       False\n",
       "996     10.74   1006.76            61.23       False\n",
       "997      1.99    279.23            13.76       False\n",
       "998      7.57   1195.12            72.20       False\n",
       "999     10.04   1242.82            63.57       False\n",
       "\n",
       "[1000 rows x 4 columns]"
      ]
     },
     "execution_count": 4,
     "metadata": {},
     "output_type": "execute_result"
    }
   ],
   "source": [
    "unacc_df"
   ]
  },
  {
   "cell_type": "markdown",
   "id": "175f2543",
   "metadata": {},
   "source": [
    "### Combined DataFrame"
   ]
  },
  {
   "cell_type": "code",
   "execution_count": 5,
   "id": "8e3a2b46",
   "metadata": {},
   "outputs": [
    {
     "data": {
      "text/html": [
       "<div>\n",
       "<style scoped>\n",
       "    .dataframe tbody tr th:only-of-type {\n",
       "        vertical-align: middle;\n",
       "    }\n",
       "\n",
       "    .dataframe tbody tr th {\n",
       "        vertical-align: top;\n",
       "    }\n",
       "\n",
       "    .dataframe thead th {\n",
       "        text-align: right;\n",
       "    }\n",
       "</style>\n",
       "<table border=\"1\" class=\"dataframe\">\n",
       "  <thead>\n",
       "    <tr style=\"text-align: right;\">\n",
       "      <th></th>\n",
       "      <th>pH_level</th>\n",
       "      <th>ec_level</th>\n",
       "      <th>area_of_lettuce</th>\n",
       "      <th>Acceptable</th>\n",
       "    </tr>\n",
       "  </thead>\n",
       "  <tbody>\n",
       "    <tr>\n",
       "      <th>0</th>\n",
       "      <td>5.80</td>\n",
       "      <td>939.03</td>\n",
       "      <td>39.53</td>\n",
       "      <td>True</td>\n",
       "    </tr>\n",
       "    <tr>\n",
       "      <th>1</th>\n",
       "      <td>6.60</td>\n",
       "      <td>867.49</td>\n",
       "      <td>31.21</td>\n",
       "      <td>True</td>\n",
       "    </tr>\n",
       "    <tr>\n",
       "      <th>2</th>\n",
       "      <td>6.50</td>\n",
       "      <td>843.29</td>\n",
       "      <td>37.90</td>\n",
       "      <td>True</td>\n",
       "    </tr>\n",
       "    <tr>\n",
       "      <th>3</th>\n",
       "      <td>6.50</td>\n",
       "      <td>911.27</td>\n",
       "      <td>45.60</td>\n",
       "      <td>True</td>\n",
       "    </tr>\n",
       "    <tr>\n",
       "      <th>4</th>\n",
       "      <td>6.60</td>\n",
       "      <td>856.50</td>\n",
       "      <td>42.65</td>\n",
       "      <td>True</td>\n",
       "    </tr>\n",
       "    <tr>\n",
       "      <th>...</th>\n",
       "      <td>...</td>\n",
       "      <td>...</td>\n",
       "      <td>...</td>\n",
       "      <td>...</td>\n",
       "    </tr>\n",
       "    <tr>\n",
       "      <th>1995</th>\n",
       "      <td>7.08</td>\n",
       "      <td>1030.95</td>\n",
       "      <td>53.12</td>\n",
       "      <td>False</td>\n",
       "    </tr>\n",
       "    <tr>\n",
       "      <th>1996</th>\n",
       "      <td>10.74</td>\n",
       "      <td>1006.76</td>\n",
       "      <td>61.23</td>\n",
       "      <td>False</td>\n",
       "    </tr>\n",
       "    <tr>\n",
       "      <th>1997</th>\n",
       "      <td>1.99</td>\n",
       "      <td>279.23</td>\n",
       "      <td>13.76</td>\n",
       "      <td>False</td>\n",
       "    </tr>\n",
       "    <tr>\n",
       "      <th>1998</th>\n",
       "      <td>7.57</td>\n",
       "      <td>1195.12</td>\n",
       "      <td>72.20</td>\n",
       "      <td>False</td>\n",
       "    </tr>\n",
       "    <tr>\n",
       "      <th>1999</th>\n",
       "      <td>10.04</td>\n",
       "      <td>1242.82</td>\n",
       "      <td>63.57</td>\n",
       "      <td>False</td>\n",
       "    </tr>\n",
       "  </tbody>\n",
       "</table>\n",
       "<p>2000 rows × 4 columns</p>\n",
       "</div>"
      ],
      "text/plain": [
       "      pH_level  ec_level  area_of_lettuce  Acceptable\n",
       "0         5.80    939.03            39.53        True\n",
       "1         6.60    867.49            31.21        True\n",
       "2         6.50    843.29            37.90        True\n",
       "3         6.50    911.27            45.60        True\n",
       "4         6.60    856.50            42.65        True\n",
       "...        ...       ...              ...         ...\n",
       "1995      7.08   1030.95            53.12       False\n",
       "1996     10.74   1006.76            61.23       False\n",
       "1997      1.99    279.23            13.76       False\n",
       "1998      7.57   1195.12            72.20       False\n",
       "1999     10.04   1242.82            63.57       False\n",
       "\n",
       "[2000 rows x 4 columns]"
      ]
     },
     "execution_count": 5,
     "metadata": {},
     "output_type": "execute_result"
    }
   ],
   "source": [
    "df = acc_df.append(unacc_df, ignore_index=True)\n",
    "df"
   ]
  },
  {
   "cell_type": "markdown",
   "id": "02bf1962",
   "metadata": {},
   "source": [
    "### Separation of training and testing set"
   ]
  },
  {
   "cell_type": "code",
   "execution_count": 6,
   "id": "0498f415",
   "metadata": {},
   "outputs": [],
   "source": [
    "X = df.loc[:, df.columns != 'Acceptable']\n",
    "y = df.loc[:, df.columns == 'Acceptable']\n",
    "start1 = time.time()\n",
    "X_train, X_test, y_train, y_test = sklearn.model_selection.train_test_split(X, y, test_size=0.2, random_state=1)"
   ]
  },
  {
   "cell_type": "markdown",
   "id": "d5d4f217",
   "metadata": {},
   "source": [
    "### Scaling of features"
   ]
  },
  {
   "cell_type": "code",
   "execution_count": 7,
   "id": "99fe1400",
   "metadata": {},
   "outputs": [],
   "source": [
    "scaler = StandardScaler()\n",
    "X_train = scaler.fit_transform(X_train.astype(np.float32))\n",
    "X_test = scaler.transform(X_test.astype(np.float32))"
   ]
  },
  {
   "cell_type": "markdown",
   "id": "4f5255aa",
   "metadata": {},
   "source": [
    "### Training of model"
   ]
  },
  {
   "cell_type": "code",
   "execution_count": 8,
   "id": "aba3fa61",
   "metadata": {},
   "outputs": [],
   "source": [
    "model = KNeighborsClassifier(n_neighbors=9)\n",
    "model.fit(X_train, y_train.values.ravel())\n",
    "acc = model.score(X_test, y_test.values.ravel())\n",
    "stop1 = time.time()"
   ]
  },
  {
   "cell_type": "markdown",
   "id": "8e1909a3",
   "metadata": {},
   "source": [
    "### Classification report and model accuracy"
   ]
  },
  {
   "cell_type": "code",
   "execution_count": 9,
   "id": "cc8b6268",
   "metadata": {},
   "outputs": [
    {
     "name": "stdout",
     "output_type": "stream",
     "text": [
      "<sklearn.metrics._plot.confusion_matrix.ConfusionMatrixDisplay object at 0x00000198DA21CAC0>\n",
      "\n",
      "CLASSIFICATION REPORT\n",
      "              precision    recall  f1-score   support\n",
      "\n",
      "       False       1.00      1.00      1.00       205\n",
      "        True       0.99      1.00      1.00       195\n",
      "\n",
      "    accuracy                           1.00       400\n",
      "   macro avg       1.00      1.00      1.00       400\n",
      "weighted avg       1.00      1.00      1.00       400\n",
      "\n",
      "MODEL ACCURACY: 99.75%\n",
      "\n",
      "TRAINING TIME: 0.09s\n",
      "\n",
      "CONFUSION MATRIX:\n"
     ]
    },
    {
     "data": {
      "image/png": "[encoded data removed]",
      "text/plain": [
       "<Figure size 432x288 with 2 Axes>"
      ]
     },
     "metadata": {
      "needs_background": "light"
     },
     "output_type": "display_data"
    }
   ],
   "source": [
    "y_pred = model.predict(X_test)\n",
    "classification_report = classification_report(y_test, y_pred)\n",
    "accuracy = model.score(X_test, y_test)\n",
    "disp = plot_confusion_matrix(model, X_test, y_test)\n",
    "print(disp)\n",
    "print()\n",
    "print(\"CLASSIFICATION REPORT\")\n",
    "print(classification_report)\n",
    "print(f\"MODEL ACCURACY: {round(acc * 100, 2)}%\")\n",
    "print()\n",
    "print(f\"TRAINING TIME: {round(stop1 - start1,2)}s\")\n",
    "print()\n",
    "print(\"CONFUSION MATRIX:\")"
   ]
  },
  {
   "cell_type": "markdown",
   "id": "f81fa184",
   "metadata": {},
   "source": [
    "### User input for prediction"
   ]
  },
  {
   "cell_type": "code",
   "execution_count": 10,
   "id": "424d155d",
   "metadata": {},
   "outputs": [
    {
     "name": "stdout",
     "output_type": "stream",
     "text": [
      "Input pH Level: 12.07\n",
      "Input EC Level: 1107.75\n",
      "Input Area of Lettuce: 15.31\n"
     ]
    }
   ],
   "source": [
    "pH_level = float(input('Input pH Level: '))\n",
    "ec_level = float(input('Input EC Level: '))\n",
    "area_of_lettuce = float(input('Input Area of Lettuce: '))"
   ]
  },
  {
   "cell_type": "markdown",
   "id": "61e48d45",
   "metadata": {},
   "source": [
    "### Preprocessing of user input"
   ]
  },
  {
   "cell_type": "code",
   "execution_count": 11,
   "id": "77c82e7a",
   "metadata": {
    "scrolled": false
   },
   "outputs": [],
   "source": [
    "inputs = [[pH_level, ec_level, area_of_lettuce]]\n",
    "new_inputs = scaler.transform(inputs)\n",
    "new_inputs = pd.DataFrame(new_inputs, columns=(df.columns[0:3]))"
   ]
  },
  {
   "cell_type": "markdown",
   "id": "3f1bc0f8",
   "metadata": {},
   "source": [
    "### Predicting the user input"
   ]
  },
  {
   "cell_type": "code",
   "execution_count": 12,
   "id": "55f0e167",
   "metadata": {
    "scrolled": true
   },
   "outputs": [
    {
     "name": "stdout",
     "output_type": "stream",
     "text": [
      "\n",
      "INPUTS: pH Level = 12.07, EC Level = 1107.75, Area of Lettuce = 15.31\n",
      "PREDICTION: ACCEPTABLE = [ True]\n",
      "PREDICTION TIME: -0.003986835479736328 s\n",
      "\n",
      "ACTION: CLOSE VALVE\n"
     ]
    }
   ],
   "source": [
    "start2 = time.time()\n",
    "pred = model.predict(new_inputs)\n",
    "stop2 = time.time()\n",
    "print()\n",
    "print(f\"INPUTS: pH Level = {pH_level}, EC Level = {ec_level}, Area of Lettuce = {area_of_lettuce}\")\n",
    "print(f\"PREDICTION: ACCEPTABLE = {pred}\")\n",
    "print(f\"PREDICTION TIME: {start2 - stop2} s\")\n",
    "if pred:\n",
    "    print()\n",
    "    print(\"ACTION: CLOSE VALVE\")\n",
    "else:\n",
    "    print()\n",
    "    print(\"ACTION: OPEN VALVE\")"
   ]
  },
  {
   "cell_type": "markdown",
   "id": "81300ef6",
   "metadata": {},
   "source": [
    "### Reading a new CSV file and predicting acceptable values"
   ]
  },
  {
   "cell_type": "code",
   "execution_count": 13,
   "id": "1d141ede",
   "metadata": {},
   "outputs": [
    {
     "name": "stdout",
     "output_type": "stream",
     "text": [
      "Input CSV File Name: MOCK_DATA.csv\n"
     ]
    },
    {
     "data": {
      "text/html": [
       "<div>\n",
       "<style scoped>\n",
       "    .dataframe tbody tr th:only-of-type {\n",
       "        vertical-align: middle;\n",
       "    }\n",
       "\n",
       "    .dataframe tbody tr th {\n",
       "        vertical-align: top;\n",
       "    }\n",
       "\n",
       "    .dataframe thead th {\n",
       "        text-align: right;\n",
       "    }\n",
       "</style>\n",
       "<table border=\"1\" class=\"dataframe\">\n",
       "  <thead>\n",
       "    <tr style=\"text-align: right;\">\n",
       "      <th></th>\n",
       "      <th>pH_level</th>\n",
       "      <th>ec_level</th>\n",
       "      <th>area_of_lettuce</th>\n",
       "      <th>Acceptable</th>\n",
       "      <th>Action</th>\n",
       "    </tr>\n",
       "  </thead>\n",
       "  <tbody>\n",
       "    <tr>\n",
       "      <th>0</th>\n",
       "      <td>5.8</td>\n",
       "      <td>939.03</td>\n",
       "      <td>39.53</td>\n",
       "      <td>True</td>\n",
       "      <td>CLOSE VALVE</td>\n",
       "    </tr>\n",
       "    <tr>\n",
       "      <th>1</th>\n",
       "      <td>6.6</td>\n",
       "      <td>867.49</td>\n",
       "      <td>31.21</td>\n",
       "      <td>True</td>\n",
       "      <td>CLOSE VALVE</td>\n",
       "    </tr>\n",
       "    <tr>\n",
       "      <th>2</th>\n",
       "      <td>6.5</td>\n",
       "      <td>843.29</td>\n",
       "      <td>37.90</td>\n",
       "      <td>True</td>\n",
       "      <td>CLOSE VALVE</td>\n",
       "    </tr>\n",
       "    <tr>\n",
       "      <th>3</th>\n",
       "      <td>6.5</td>\n",
       "      <td>911.27</td>\n",
       "      <td>45.60</td>\n",
       "      <td>True</td>\n",
       "      <td>CLOSE VALVE</td>\n",
       "    </tr>\n",
       "    <tr>\n",
       "      <th>4</th>\n",
       "      <td>6.6</td>\n",
       "      <td>856.50</td>\n",
       "      <td>42.65</td>\n",
       "      <td>True</td>\n",
       "      <td>CLOSE VALVE</td>\n",
       "    </tr>\n",
       "    <tr>\n",
       "      <th>...</th>\n",
       "      <td>...</td>\n",
       "      <td>...</td>\n",
       "      <td>...</td>\n",
       "      <td>...</td>\n",
       "      <td>...</td>\n",
       "    </tr>\n",
       "    <tr>\n",
       "      <th>995</th>\n",
       "      <td>5.3</td>\n",
       "      <td>837.40</td>\n",
       "      <td>40.73</td>\n",
       "      <td>True</td>\n",
       "      <td>CLOSE VALVE</td>\n",
       "    </tr>\n",
       "    <tr>\n",
       "      <th>996</th>\n",
       "      <td>6.8</td>\n",
       "      <td>921.81</td>\n",
       "      <td>39.80</td>\n",
       "      <td>True</td>\n",
       "      <td>CLOSE VALVE</td>\n",
       "    </tr>\n",
       "    <tr>\n",
       "      <th>997</th>\n",
       "      <td>5.4</td>\n",
       "      <td>945.17</td>\n",
       "      <td>48.98</td>\n",
       "      <td>True</td>\n",
       "      <td>CLOSE VALVE</td>\n",
       "    </tr>\n",
       "    <tr>\n",
       "      <th>998</th>\n",
       "      <td>6.1</td>\n",
       "      <td>919.46</td>\n",
       "      <td>34.16</td>\n",
       "      <td>True</td>\n",
       "      <td>CLOSE VALVE</td>\n",
       "    </tr>\n",
       "    <tr>\n",
       "      <th>999</th>\n",
       "      <td>6.1</td>\n",
       "      <td>822.25</td>\n",
       "      <td>46.01</td>\n",
       "      <td>True</td>\n",
       "      <td>CLOSE VALVE</td>\n",
       "    </tr>\n",
       "  </tbody>\n",
       "</table>\n",
       "<p>1000 rows × 5 columns</p>\n",
       "</div>"
      ],
      "text/plain": [
       "     pH_level  ec_level  area_of_lettuce  Acceptable       Action\n",
       "0         5.8    939.03            39.53        True  CLOSE VALVE\n",
       "1         6.6    867.49            31.21        True  CLOSE VALVE\n",
       "2         6.5    843.29            37.90        True  CLOSE VALVE\n",
       "3         6.5    911.27            45.60        True  CLOSE VALVE\n",
       "4         6.6    856.50            42.65        True  CLOSE VALVE\n",
       "..        ...       ...              ...         ...          ...\n",
       "995       5.3    837.40            40.73        True  CLOSE VALVE\n",
       "996       6.8    921.81            39.80        True  CLOSE VALVE\n",
       "997       5.4    945.17            48.98        True  CLOSE VALVE\n",
       "998       6.1    919.46            34.16        True  CLOSE VALVE\n",
       "999       6.1    822.25            46.01        True  CLOSE VALVE\n",
       "\n",
       "[1000 rows x 5 columns]"
      ]
     },
     "execution_count": 13,
     "metadata": {},
     "output_type": "execute_result"
    }
   ],
   "source": [
    "filename = str(input(\"Input CSV File Name: \"))\n",
    "new_df = pd.read_csv(filename)\n",
    "new_df.fillna(0, inplace = True)\n",
    "arr1 = []\n",
    "arr2 = []\n",
    "for i in new_df.index:\n",
    "    pH_level = new_df['pH_level'][i]\n",
    "    ec_level = new_df['ec_level'][i]\n",
    "    area_of_lettuce = new_df['area_of_lettuce'][i]\n",
    "    temp_df = scaler.transform([[pH_level, ec_level, area_of_lettuce]])\n",
    "    temp_df = pd.DataFrame(temp_df, columns=df.columns[0:3])\n",
    "    pred = model.predict(temp_df)\n",
    "    arr1.append(pred)\n",
    "    if pred:\n",
    "        arr2.append('CLOSE VALVE')\n",
    "    else:\n",
    "        arr2.append('OPEN VALVE')\n",
    "arr1 = pd.DataFrame(arr1)\n",
    "arr2 = pd.DataFrame(arr2)\n",
    "new_df['Acceptable'] = arr1\n",
    "new_df['Action'] = arr2\n",
    "new_df"
   ]
  },
  {
   "cell_type": "code",
   "execution_count": null,
   "id": "08afa373",
   "metadata": {},
   "outputs": [],
   "source": []
  }
 ],
 "metadata": {
  "kernelspec": {
   "display_name": "Python 3",
   "language": "python",
   "name": "python3"
  },
  "language_info": {
   "codemirror_mode": {
    "name": "ipython",
    "version": 3
   },
   "file_extension": ".py",
   "mimetype": "text/x-python",
   "name": "python",
   "nbconvert_exporter": "python",
   "pygments_lexer": "ipython3",
   "version": "3.8.8"
  }
 },
 "nbformat": 4,
 "nbformat_minor": 5
}
